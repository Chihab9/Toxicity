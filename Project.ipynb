{
 "cells": [
  {
   "cell_type": "code",
   "execution_count": 56,
   "metadata": {},
   "outputs": [],
   "source": [
    "# Import necessary libraries\n",
    "import numpy as np\n",
    "import pandas as pd\n",
    "from rdkit import Chem\n",
    "from rdkit.Chem import Descriptors\n",
    "from sklearn.model_selection import train_test_split\n",
    "from sklearn.metrics import f1_score\n",
    "from sklearn.model_selection import train_test_split\n",
    "from rdkit import Chem\n",
    "from rdkit.Chem import Descriptors"
   ]
  },
  {
   "cell_type": "code",
   "execution_count": 57,
   "metadata": {},
   "outputs": [],
   "source": [
    "def generate_all_rdkit_features(smiles, assay_id):\n",
    "    # Convert SMILES string to RDKit molecule object\n",
    "    mol = Chem.MolFromSmiles(smiles)\n",
    "    if mol is None:\n",
    "        # Return NaN if SMILES string is invalid\n",
    "        return [np.nan]*208\n",
    "    \n",
    "    # Calculate additional RDKit descriptors\n",
    "    MaxEStateIndex= Descriptors.MaxEStateIndex(mol)\n",
    "    MinEStateIndex= Descriptors.MinEStateIndex(mol)\n",
    "    MaxAbsEStateIndex= Descriptors.MaxAbsEStateIndex(mol)\n",
    "    MinAbsEStateIndex= Descriptors.MinAbsEStateIndex(mol)\n",
    "    qed= Descriptors.qed(mol)\n",
    "    MolWt= Descriptors.MolWt(mol)\n",
    "    HeavyAtomMolWt= Descriptors.HeavyAtomMolWt(mol)\n",
    "    ExactMolWt= Descriptors.ExactMolWt(mol)\n",
    "    NumValenceElectrons= Descriptors.NumValenceElectrons(mol)\n",
    "    NumRadicalElectrons= Descriptors.NumRadicalElectrons(mol)\n",
    "    MaxPartialCharge= Descriptors.MaxPartialCharge(mol)\n",
    "    MinPartialCharge= Descriptors.MinPartialCharge(mol)\n",
    "    MaxAbsPartialCharge= Descriptors.MaxAbsPartialCharge(mol)\n",
    "    MinAbsPartialCharge= Descriptors.MinAbsPartialCharge(mol)\n",
    "    FpDensityMorgan1= Descriptors.FpDensityMorgan1(mol)\n",
    "    FpDensityMorgan2= Descriptors.FpDensityMorgan2(mol)\n",
    "    FpDensityMorgan3= Descriptors.FpDensityMorgan3(mol)\n",
    "    BalabanJ= Descriptors.BalabanJ(mol)\n",
    "    BertzCT= Descriptors.BertzCT(mol)\n",
    "    Chi0= Descriptors.Chi0(mol)\n",
    "    Chi0n= Descriptors.Chi0n(mol)\n",
    "    Chi0v= Descriptors.Chi0v(mol)\n",
    "    Chi1= Descriptors.Chi1(mol)\n",
    "    Chi1n= Descriptors.Chi1n(mol)\n",
    "    Chi1v= Descriptors.Chi1v(mol)\n",
    "    Chi2n= Descriptors.Chi2n(mol)\n",
    "    Chi2v= Descriptors.Chi2v(mol)\n",
    "    Chi3n= Descriptors.Chi3n(mol)\n",
    "    Chi3v= Descriptors.Chi3v(mol)\n",
    "    Chi4n= Descriptors.Chi4n(mol)\n",
    "    Chi4v= Descriptors.Chi4v(mol)\n",
    "    HallKierAlpha= Descriptors.HallKierAlpha(mol)\n",
    "    Ipc= Descriptors.Ipc(mol)\n",
    "    Kappa1= Descriptors.Kappa1(mol)\n",
    "    Kappa2= Descriptors.Kappa2(mol)\n",
    "    Kappa3= Descriptors.Kappa3(mol)\n",
    "    LabuteASA= Descriptors.LabuteASA(mol)\n",
    "    PEOE_VSA1= Descriptors.PEOE_VSA1(mol)\n",
    "    PEOE_VSA10= Descriptors.PEOE_VSA10(mol)\n",
    "    PEOE_VSA11= Descriptors.PEOE_VSA11(mol)\n",
    "    PEOE_VSA12= Descriptors.PEOE_VSA12(mol)\n",
    "    PEOE_VSA13= Descriptors.PEOE_VSA13(mol)\n",
    "    PEOE_VSA14= Descriptors.PEOE_VSA14(mol)\n",
    "    PEOE_VSA2= Descriptors.PEOE_VSA2(mol)\n",
    "    PEOE_VSA3 = Descriptors.PEOE_VSA3(mol)\n",
    "    PEOE_VSA4 = Descriptors.PEOE_VSA4(mol)\n",
    "    PEOE_VSA5 = Descriptors.PEOE_VSA5(mol)\n",
    "    PEOE_VSA6 = Descriptors.PEOE_VSA6(mol)\n",
    "    PEOE_VSA7 = Descriptors.PEOE_VSA7(mol)\n",
    "    PEOE_VSA8 = Descriptors.PEOE_VSA8(mol)\n",
    "    PEOE_VSA9 = Descriptors.PEOE_VSA9(mol)\n",
    "    SMR_VSA1 = Descriptors.SMR_VSA1(mol)\n",
    "    SMR_VSA10 = Descriptors.SMR_VSA10(mol)\n",
    "    SMR_VSA2 = Descriptors.SMR_VSA2(mol)\n",
    "    SMR_VSA3 = Descriptors.SMR_VSA3(mol)\n",
    "    SMR_VSA4 = Descriptors.SMR_VSA4(mol)\n",
    "    SMR_VSA5 = Descriptors.SMR_VSA5(mol)\n",
    "    SMR_VSA6 = Descriptors.SMR_VSA6(mol)\n",
    "    SMR_VSA7 = Descriptors.SMR_VSA7(mol)\n",
    "    SMR_VSA8 = Descriptors.SMR_VSA8(mol)\n",
    "    SMR_VSA9 = Descriptors.SMR_VSA9(mol)\n",
    "    SlogP_VSA1 = Descriptors.SlogP_VSA1(mol)\n",
    "    SlogP_VSA10 = Descriptors.SlogP_VSA10(mol)\n",
    "    SlogP_VSA11 = Descriptors.SlogP_VSA11(mol)\n",
    "    SlogP_VSA12 = Descriptors.SlogP_VSA12(mol)\n",
    "    SlogP_VSA2 = Descriptors.SlogP_VSA2(mol)\n",
    "    SlogP_VSA3 = Descriptors.SlogP_VSA3(mol)\n",
    "    SlogP_VSA4 = Descriptors.SlogP_VSA4(mol)\n",
    "    SlogP_VSA5 = Descriptors.SlogP_VSA5(mol)\n",
    "    SlogP_VSA6 = Descriptors.SlogP_VSA6(mol)\n",
    "    SlogP_VSA7 = Descriptors.SlogP_VSA7(mol)\n",
    "    SlogP_VSA8 = Descriptors.SlogP_VSA8(mol)\n",
    "    SlogP_VSA9 = Descriptors.SlogP_VSA9(mol)\n",
    "    TPSA = Descriptors.TPSA(mol)\n",
    "    EState_VSA1 = Descriptors.EState_VSA1(mol)\n",
    "    EState_VSA10 = Descriptors.EState_VSA10(mol)\n",
    "    EState_VSA11 = Descriptors.EState_VSA11(mol)\n",
    "    EState_VSA2 = Descriptors.EState_VSA2(mol)\n",
    "    EState_VSA3 = Descriptors.EState_VSA3(mol)\n",
    "    EState_VSA4 = Descriptors.EState_VSA4(mol)\n",
    "    EState_VSA5 = Descriptors.EState_VSA5(mol)\n",
    "    EState_VSA6 = Descriptors.EState_VSA6(mol)\n",
    "    EState_VSA7 = Descriptors.EState_VSA7(mol)\n",
    "    EState_VSA8 = Descriptors.EState_VSA8(mol)\n",
    "    EState_VSA9 = Descriptors.EState_VSA9(mol)\n",
    "    VSA_EState1 = Descriptors.VSA_EState1(mol)\n",
    "    VSA_EState10 = Descriptors.VSA_EState10(mol)\n",
    "    VSA_EState2 = Descriptors.VSA_EState2(mol)\n",
    "    VSA_EState3 = Descriptors.VSA_EState3(mol)\n",
    "    VSA_EState4 = Descriptors.VSA_EState4(mol)\n",
    "    VSA_EState5 = Descriptors.VSA_EState5(mol)\n",
    "    VSA_EState6 = Descriptors.VSA_EState6(mol)\n",
    "    VSA_EState7 = Descriptors.VSA_EState7(mol)\n",
    "    VSA_EState8 = Descriptors.VSA_EState8(mol)\n",
    "    VSA_EState9 = Descriptors.VSA_EState9(mol)\n",
    "    FractionCSP3 = Descriptors.FractionCSP3(mol)\n",
    "    HeavyAtomCount = Descriptors.HeavyAtomCount(mol)\n",
    "    NHOHCount = Descriptors.NHOHCount(mol)\n",
    "    NOCount = Descriptors.NOCount(mol)\n",
    "    NumAliphaticCarbocycles = Descriptors.NumAliphaticCarbocycles(mol)\n",
    "    NumAliphaticHeterocycles = Descriptors.NumAliphaticHeterocycles(mol)\n",
    "    NumAliphaticRings = Descriptors.NumAliphaticRings(mol)\n",
    "    NumAromaticCarbocycles = Descriptors.NumAromaticCarbocycles(mol)\n",
    "    NumAromaticHeterocycles = Descriptors.NumAromaticHeterocycles(mol)\n",
    "    NumAromaticRings = Descriptors.NumAromaticRings(mol)\n",
    "    NumHAcceptors = Descriptors.NumHAcceptors(mol)\n",
    "    NumHDonors = Descriptors.NumHDonors(mol)\n",
    "    NumHeteroatoms = Descriptors.NumHeteroatoms(mol)\n",
    "    NumRotatableBonds = Descriptors.NumRotatableBonds(mol)\n",
    "    NumSaturatedCarbocycles = Descriptors.NumSaturatedCarbocycles(mol)\n",
    "    NumSaturatedHeterocycles = Descriptors.NumSaturatedHeterocycles(mol)\n",
    "    NumSaturatedRings = Descriptors.NumSaturatedRings(mol)   \n",
    "    RingCount = Descriptors.RingCount(mol)\n",
    "    MolLogP = Descriptors.MolLogP(mol)\n",
    "    MolMR = Descriptors.MolMR(mol) \n",
    "    fr_Al_COO = Descriptors.fr_Al_COO(mol)\n",
    "    fr_Al_OH = Descriptors.fr_Al_OH(mol)\n",
    "    fr_Al_OH_noTert = Descriptors.fr_Al_OH_noTert(mol)\n",
    "    fr_ArN = Descriptors.fr_ArN(mol)\n",
    "    fr_Ar_COO = Descriptors.fr_Ar_COO(mol)\n",
    "    fr_Ar_N = Descriptors.fr_Ar_N(mol)\n",
    "    fr_Ar_NH = Descriptors.fr_Ar_NH(mol)\n",
    "    fr_Ar_OH = Descriptors.fr_Ar_OH(mol)\n",
    "    fr_COO = Descriptors.fr_COO(mol)\n",
    "    fr_COO2 = Descriptors.fr_COO2(mol)\n",
    "    fr_C_O = Descriptors.fr_C_O(mol)\n",
    "    fr_C_O_noCOO = Descriptors.fr_C_O_noCOO(mol)\n",
    "    fr_C_S = Descriptors.fr_C_S(mol)\n",
    "    fr_HOCCN = Descriptors.fr_HOCCN(mol)\n",
    "    fr_Imine = Descriptors.fr_Imine(mol)\n",
    "    fr_NH0 = Descriptors.fr_NH0(mol)\n",
    "    fr_NH1 = Descriptors.fr_NH1(mol)\n",
    "    fr_NH2 = Descriptors.fr_NH2(mol)\n",
    "    fr_N_O = Descriptors.fr_N_O(mol)\n",
    "    fr_Ndealkylation1 = Descriptors.fr_Ndealkylation1(mol)\n",
    "    fr_Ndealkylation2 = Descriptors.fr_Ndealkylation2(mol)\n",
    "    fr_Nhpyrrole = Descriptors.fr_Nhpyrrole(mol)\n",
    "    fr_SH = Descriptors.fr_SH(mol)\n",
    "    fr_aldehyde = Descriptors.fr_aldehyde(mol)\n",
    "    fr_alkyl_carbamate = Descriptors.fr_alkyl_carbamate(mol)\n",
    "    fr_alkyl_halide = Descriptors.fr_alkyl_halide(mol)\n",
    "    fr_allylic_oxid = Descriptors.fr_allylic_oxid(mol)\n",
    "    fr_amide = Descriptors.fr_amide(mol)\n",
    "    fr_amidine = Descriptors.fr_amidine(mol)\n",
    "    fr_aniline = Descriptors.fr_aniline(mol)\n",
    "    fr_aryl_methyl = Descriptors.fr_aryl_methyl(mol)\n",
    "    fr_azide = Descriptors.fr_azide(mol)\n",
    "    fr_azo = Descriptors.fr_azo(mol)\n",
    "    fr_barbitur = Descriptors.fr_barbitur(mol)\n",
    "    fr_benzene = Descriptors.fr_benzene(mol)\n",
    "    fr_benzodiazepine = Descriptors.fr_benzodiazepine(mol)\n",
    "    fr_bicyclic = Descriptors.fr_bicyclic(mol)\n",
    "    fr_diazo = Descriptors.fr_diazo(mol)\n",
    "    fr_dihydropyridine = Descriptors.fr_dihydropyridine(mol)\n",
    "    fr_epoxide = Descriptors.fr_epoxide(mol)\n",
    "    fr_ester = Descriptors.fr_ester(mol)\n",
    "    fr_ether = Descriptors.fr_ether(mol)\n",
    "    fr_furan = Descriptors.fr_furan(mol)\n",
    "    fr_guanido = Descriptors.fr_guanido(mol)\n",
    "    fr_halogen = Descriptors.fr_halogen(mol)\n",
    "    fr_hdrzine = Descriptors.fr_hdrzine(mol)\n",
    "    fr_hdrzone = Descriptors.fr_hdrzone(mol)\n",
    "    fr_imidazole = Descriptors.fr_imidazole(mol)\n",
    "    fr_imide = Descriptors.fr_imide(mol)\n",
    "    fr_isocyan = Descriptors.fr_isocyan(mol)\n",
    "    fr_isothiocyan = Descriptors.fr_isothiocyan(mol)\n",
    "    fr_ketone = Descriptors.fr_ketone(mol)\n",
    "    fr_ketone_Topliss = Descriptors.fr_ketone_Topliss(mol)\n",
    "    fr_lactam = Descriptors.fr_lactam(mol)\n",
    "    fr_lactone = Descriptors.fr_lactone(mol)\n",
    "    fr_methoxy = Descriptors.fr_methoxy(mol)\n",
    "    fr_morpholine = Descriptors.fr_morpholine(mol)\n",
    "    fr_nitrile = Descriptors.fr_nitrile(mol)\n",
    "    fr_nitro = Descriptors.fr_nitro(mol)\n",
    "    fr_nitro_arom = Descriptors.fr_nitro_arom(mol)\n",
    "    fr_nitro_arom_nonortho = Descriptors.fr_nitro_arom_nonortho(mol)\n",
    "    fr_nitroso = Descriptors.fr_nitroso(mol)\n",
    "    fr_oxazole = Descriptors.fr_oxazole(mol)\n",
    "    fr_oxime = Descriptors.fr_oxime(mol)\n",
    "    fr_para_hydroxylation = Descriptors.fr_para_hydroxylation(mol)\n",
    "    fr_phenol = Descriptors.fr_phenol(mol)\n",
    "    fr_phenol_noOrthoHbond = Descriptors.fr_phenol_noOrthoHbond(mol)\n",
    "    fr_phos_acid = Descriptors.fr_phos_acid(mol)\n",
    "    fr_phos_ester = Descriptors.fr_phos_ester(mol)\n",
    "    fr_piperdine = Descriptors.fr_piperdine(mol)\n",
    "    fr_piperzine = Descriptors.fr_piperzine(mol)\n",
    "    fr_priamide = Descriptors.fr_priamide(mol)\n",
    "    fr_prisulfonamd = Descriptors.fr_prisulfonamd(mol)\n",
    "    fr_pyridine = Descriptors.fr_pyridine(mol)\n",
    "    fr_quatN = Descriptors.fr_quatN(mol)\n",
    "    fr_sulfide = Descriptors.fr_sulfide(mol)\n",
    "    fr_sulfonamd = Descriptors.fr_sulfonamd(mol)\n",
    "    fr_sulfone = Descriptors.fr_sulfone(mol)\n",
    "    fr_term_acetylene = Descriptors.fr_term_acetylene(mol)\n",
    "    fr_tetrazole = Descriptors.fr_tetrazole(mol)\n",
    "    fr_thiazole = Descriptors.fr_thiazole(mol)\n",
    "    fr_thiocyan = Descriptors.fr_thiocyan(mol)\n",
    "    fr_thiophene = Descriptors.fr_thiophene(mol)\n",
    "    fr_unbrch_alkane = Descriptors.fr_unbrch_alkane(mol)\n",
    "    fr_urea = Descriptors.fr_urea(mol)\n",
    "    BCUT2D_MWHI = Descriptors.BCUT2D_MWHI(mol)\n",
    "    BCUT2D_MWLOW = Descriptors.BCUT2D_MWLOW(mol)\n",
    "    BCUT2D_CHGHI = Descriptors.BCUT2D_CHGHI(mol)\n",
    "    BCUT2D_CHGLO = Descriptors.BCUT2D_CHGLO(mol)\n",
    "    BCUT2D_LOGPHI = Descriptors.BCUT2D_LOGPHI(mol)\n",
    "    BCUT2D_LOGPLOW = Descriptors.BCUT2D_LOGPLOW(mol)\n",
    "    BCUT2D_MRHI = Descriptors.BCUT2D_MRHI(mol)\n",
    "    BCUT2D_MRLOW = Descriptors.BCUT2D_MRLOW(mol)\n",
    "\n",
    "\n",
    "\n",
    "        \n",
    "    # Return a list of features, including the assay ID\n",
    "    return [\n",
    "    MaxEStateIndex,MinEStateIndex,MaxAbsEStateIndex,MinAbsEStateIndex,qed,MolWt,HeavyAtomMolWt,ExactMolWt,NumValenceElectrons,\n",
    "    NumRadicalElectrons,MaxPartialCharge,MinPartialCharge,MaxAbsPartialCharge,MinAbsPartialCharge,FpDensityMorgan1,FpDensityMorgan2,\n",
    "    FpDensityMorgan3,BCUT2D_MWHI,BCUT2D_MWLOW,BCUT2D_CHGHI,BCUT2D_CHGLO,BCUT2D_LOGPHI,BCUT2D_LOGPLOW,BCUT2D_MRHI,BCUT2D_MRLOW,BalabanJ,\n",
    "    BertzCT,Chi0,Chi0n,Chi0v,Chi1,Chi1n,Chi1v,Chi2n,Chi2v,Chi3n,Chi3v,Chi4n,Chi4v,HallKierAlpha,Ipc,Kappa1,Kappa2,Kappa3,LabuteASA,\n",
    "    PEOE_VSA1,PEOE_VSA10,PEOE_VSA11,PEOE_VSA12,PEOE_VSA13,PEOE_VSA14,PEOE_VSA2,PEOE_VSA3,PEOE_VSA4,PEOE_VSA5,PEOE_VSA6,PEOE_VSA7,\n",
    "    PEOE_VSA8,PEOE_VSA9,SMR_VSA1,SMR_VSA10,SMR_VSA2,SMR_VSA3,SMR_VSA4,SMR_VSA5,SMR_VSA6,SMR_VSA7,SMR_VSA8,SMR_VSA9,SlogP_VSA1,SlogP_VSA10,\n",
    "    SlogP_VSA11,SlogP_VSA12,SlogP_VSA2,SlogP_VSA3,SlogP_VSA4,SlogP_VSA5,SlogP_VSA6,SlogP_VSA7,SlogP_VSA8,SlogP_VSA9,TPSA,EState_VSA1,\n",
    "    EState_VSA10,EState_VSA11,EState_VSA2,EState_VSA3,EState_VSA4,EState_VSA5,EState_VSA6,EState_VSA7,EState_VSA8,EState_VSA9,VSA_EState1,\n",
    "    VSA_EState10,VSA_EState2,VSA_EState3,VSA_EState4,VSA_EState5,VSA_EState6,VSA_EState7,VSA_EState8,VSA_EState9,FractionCSP3,HeavyAtomCount,\n",
    "    NHOHCount,NOCount,NumAliphaticCarbocycles,NumAliphaticHeterocycles,NumAliphaticRings,NumAromaticCarbocycles,NumAromaticHeterocycles,\n",
    "    NumAromaticRings,NumHAcceptors,NumHDonors,NumHeteroatoms,NumRotatableBonds,NumSaturatedCarbocycles,NumSaturatedHeterocycles,\n",
    "    NumSaturatedRings,RingCount,MolLogP,MolMR,fr_Al_COO,fr_Al_OH,fr_Al_OH_noTert,fr_ArN,fr_Ar_COO,fr_Ar_N,fr_Ar_NH,fr_Ar_OH,fr_COO,\n",
    "    fr_COO2,fr_C_O,fr_C_O_noCOO,fr_C_S,fr_HOCCN,fr_Imine,fr_NH0,fr_NH1,fr_NH2,fr_N_O,fr_Ndealkylation1,fr_Ndealkylation2,fr_Nhpyrrole,\n",
    "    fr_SH,fr_aldehyde,fr_alkyl_carbamate,fr_alkyl_halide,fr_allylic_oxid,fr_amide,fr_amidine,fr_aniline,fr_aryl_methyl,fr_azide,\n",
    "    fr_azo,fr_barbitur,fr_benzene,fr_benzodiazepine,fr_bicyclic,fr_diazo,fr_dihydropyridine,fr_epoxide,fr_ester,fr_ether,fr_furan,\n",
    "    fr_guanido,fr_halogen,fr_hdrzine,fr_hdrzone,fr_imidazole,fr_imide,fr_isocyan,fr_isothiocyan,fr_ketone,fr_ketone_Topliss,fr_lactam,\n",
    "    fr_lactone,fr_methoxy,fr_morpholine,fr_nitrile,fr_nitro,fr_nitro_arom,fr_nitro_arom_nonortho,fr_nitroso,fr_oxazole,fr_oxime,\n",
    "    fr_para_hydroxylation,fr_phenol,fr_phenol_noOrthoHbond,fr_phos_acid,fr_phos_ester,fr_piperdine,fr_piperzine,fr_priamide,\n",
    "    fr_prisulfonamd,fr_pyridine,fr_quatN,fr_sulfide,fr_sulfonamd,fr_sulfone,fr_term_acetylene,fr_tetrazole,fr_thiazole,fr_thiocyan,\n",
    "    fr_thiophene,fr_unbrch_alkane,fr_urea\n",
    "    ]\n"
   ]
  },
  {
   "cell_type": "code",
   "execution_count": 58,
   "metadata": {},
   "outputs": [],
   "source": [
    "# Load the train data into a pandas DataFrame\n",
    "train_data = pd.read_csv('train_II.csv', delimiter=';', names=['SMILES','Identifier'], skiprows=1)\n",
    "train_data[['Identifier', 'Expected']] = train_data['Identifier'].str.split(',', expand=True)"
   ]
  },
  {
   "cell_type": "code",
   "execution_count": 59,
   "metadata": {},
   "outputs": [
    {
     "name": "stderr",
     "output_type": "stream",
     "text": [
      "[12:28:25] Explicit valence for atom # 1 Si, 8, is greater than permitted\n",
      "[12:30:33] Explicit valence for atom # 1 Si, 8, is greater than permitted\n",
      "[12:32:36] Explicit valence for atom # 1 Si, 8, is greater than permitted\n",
      "[12:33:15] Explicit valence for atom # 1 Si, 8, is greater than permitted\n",
      "[12:35:25] Explicit valence for atom # 1 Si, 8, is greater than permitted\n",
      "[12:36:41] Explicit valence for atom # 1 Si, 8, is greater than permitted\n",
      "c:\\Python39\\lib\\site-packages\\pandas\\core\\frame.py:3636: PerformanceWarning: DataFrame is highly fragmented.  This is usually the result of calling `frame.insert` many times, which has poor performance.  Consider using pd.concat instead.  To get a de-fragmented frame, use `newframe = frame.copy()`\n",
      "  self[k1] = value[k2]\n"
     ]
    }
   ],
   "source": [
    "# Extract RDKit features and add them as columns to the dataframe\n",
    "train_data['RDKit_features'] = train_data.apply(lambda x: generate_all_rdkit_features(x['SMILES'], x['Identifier']), axis=1)\n",
    "\n",
    "train_data[[\n",
    "'MaxEStateIndex','MinEStateIndex','MaxAbsEStateIndex','MinAbsEStateIndex','qed','MolWt','HeavyAtomMolWt','ExactMolWt','NumValenceElectrons',\n",
    "'NumRadicalElectrons','MaxPartialCharge','MinPartialCharge','MaxAbsPartialCharge','MinAbsPartialCharge','FpDensityMorgan1','FpDensityMorgan2',\n",
    "'FpDensityMorgan3','BCUT2D_MWHI','BCUT2D_MWLOW','BCUT2D_CHGHI','BCUT2D_CHGLO','BCUT2D_LOGPHI','BCUT2D_LOGPLOW','BCUT2D_MRHI','BCUT2D_MRLOW',\n",
    "'BalabanJ','BertzCT','Chi0','Chi0n','Chi0v','Chi1','Chi1n','Chi1v','Chi2n','Chi2v','Chi3n','Chi3v','Chi4n','Chi4v','HallKierAlpha','Ipc',\n",
    "'Kappa1','Kappa2','Kappa3','LabuteASA','PEOE_VSA1','PEOE_VSA10','PEOE_VSA11','PEOE_VSA12','PEOE_VSA13','PEOE_VSA14','PEOE_VSA2','PEOE_VSA3',\n",
    "'PEOE_VSA4','PEOE_VSA5','PEOE_VSA6','PEOE_VSA7','PEOE_VSA8','PEOE_VSA9','SMR_VSA1','SMR_VSA10','SMR_VSA2','SMR_VSA3','SMR_VSA4','SMR_VSA5',\n",
    "'SMR_VSA6','SMR_VSA7','SMR_VSA8','SMR_VSA9','SlogP_VSA1','SlogP_VSA10','SlogP_VSA11','SlogP_VSA12','SlogP_VSA2','SlogP_VSA3','SlogP_VSA4',\n",
    "'SlogP_VSA5','SlogP_VSA6','SlogP_VSA7','SlogP_VSA8','SlogP_VSA9','TPSA','EState_VSA1','EState_VSA10','EState_VSA11','EState_VSA2','EState_VSA3',\n",
    "'EState_VSA4','EState_VSA5','EState_VSA6','EState_VSA7','EState_VSA8','EState_VSA9','VSA_EState1','VSA_EState10','VSA_EState2','VSA_EState3',\n",
    "'VSA_EState4','VSA_EState5','VSA_EState6','VSA_EState7','VSA_EState8','VSA_EState9','FractionCSP3','HeavyAtomCount','NHOHCount','NOCount',\n",
    "'NumAliphaticCarbocycles','NumAliphaticHeterocycles','NumAliphaticRings','NumAromaticCarbocycles','NumAromaticHeterocycles','NumAromaticRings',\n",
    "'NumHAcceptors','NumHDonors','NumHeteroatoms','NumRotatableBonds','NumSaturatedCarbocycles','NumSaturatedHeterocycles','NumSaturatedRings',\n",
    "'RingCount','MolLogP','MolMR','fr_Al_COO','fr_Al_OH','fr_Al_OH_noTert','fr_ArN','fr_Ar_COO','fr_Ar_N','fr_Ar_NH','fr_Ar_OH','fr_COO','fr_COO2',\n",
    "'fr_C_O','fr_C_O_noCOO','fr_C_S','fr_HOCCN','fr_Imine','fr_NH0','fr_NH1','fr_NH2','fr_N_O','fr_Ndealkylation1','fr_Ndealkylation2','fr_Nhpyrrole',\n",
    "'fr_SH','fr_aldehyde','fr_alkyl_carbamate','fr_alkyl_halide','fr_allylic_oxid','fr_amide','fr_amidine','fr_aniline','fr_aryl_methyl',\n",
    "'fr_azide','fr_azo','fr_barbitur','fr_benzene','fr_benzodiazepine','fr_bicyclic','fr_diazo','fr_dihydropyridine','fr_epoxide','fr_ester',\n",
    "'fr_ether','fr_furan','fr_guanido','fr_halogen','fr_hdrzine','fr_hdrzone','fr_imidazole','fr_imide','fr_isocyan','fr_isothiocyan','fr_ketone',\n",
    "'fr_ketone_Topliss','fr_lactam','fr_lactone','fr_methoxy','fr_morpholine','fr_nitrile','fr_nitro','fr_nitro_arom','fr_nitro_arom_nonortho',\n",
    "'fr_nitroso','fr_oxazole','fr_oxime','fr_para_hydroxylation','fr_phenol','fr_phenol_noOrthoHbond','fr_phos_acid','fr_phos_ester','fr_piperdine',\n",
    "'fr_piperzine','fr_priamide','fr_prisulfonamd','fr_pyridine','fr_quatN','fr_sulfide','fr_sulfonamd','fr_sulfone','fr_term_acetylene',\n",
    "'fr_tetrazole','fr_thiazole','fr_thiocyan','fr_thiophene','fr_unbrch_alkane','fr_urea'\n",
    "]] = train_data['RDKit_features'].apply(pd.Series)\n"
   ]
  },
  {
   "cell_type": "code",
   "execution_count": 60,
   "metadata": {},
   "outputs": [],
   "source": [
    "# Drop the original RDKit_features column\n",
    "train_data.drop('RDKit_features', axis=1, inplace=True)"
   ]
  },
  {
   "cell_type": "code",
   "execution_count": 61,
   "metadata": {},
   "outputs": [
    {
     "name": "stdout",
     "output_type": "stream",
     "text": [
      "SMILES              0\n",
      "Identifier          0\n",
      "Expected            0\n",
      "MaxEStateIndex      6\n",
      "MinEStateIndex      6\n",
      "                   ..\n",
      "fr_thiazole         6\n",
      "fr_thiocyan         6\n",
      "fr_thiophene        6\n",
      "fr_unbrch_alkane    6\n",
      "fr_urea             6\n",
      "Length: 211, dtype: int64\n"
     ]
    }
   ],
   "source": [
    "# Count and print the null values\n",
    "null_counts = train_data.isnull().sum()\n",
    "print(null_counts)"
   ]
  },
  {
   "cell_type": "code",
   "execution_count": 62,
   "metadata": {},
   "outputs": [],
   "source": [
    "# Drop all null values from train data\n",
    "train_data = train_data.dropna()"
   ]
  },
  {
   "cell_type": "code",
   "execution_count": 63,
   "metadata": {},
   "outputs": [],
   "source": [
    "# Extract RDKit features\n",
    "X = train_data.drop(['Expected','SMILES', 'Identifier'], axis=1)"
   ]
  },
  {
   "cell_type": "code",
   "execution_count": 64,
   "metadata": {},
   "outputs": [
    {
     "data": {
      "text/plain": [
       "PCA(n_components=1)"
      ]
     },
     "execution_count": 64,
     "metadata": {},
     "output_type": "execute_result"
    }
   ],
   "source": [
    "from sklearn.decomposition import PCA\n",
    "\n",
    "X = X.astype(float)\n",
    "\n",
    "# Perform PCA with n_components=1\n",
    "pca = PCA(n_components=1)\n",
    "pca.fit(X)"
   ]
  },
  {
   "cell_type": "code",
   "execution_count": 65,
   "metadata": {},
   "outputs": [
    {
     "name": "stdout",
     "output_type": "stream",
     "text": [
      "Top features for principal component 1:\n",
      "Ipc, BertzCT, MolWt, ExactMolWt, HeavyAtomMolWt, TPSA, LabuteASA, NumValenceElectrons, EState_VSA1, MolMR, VSA_EState3, SMR_VSA1, SlogP_VSA2, PEOE_VSA1, SlogP_VSA11, SMR_VSA9, PEOE_VSA11, EState_VSA10, SMR_VSA7, VSA_EState2, EState_VSA3, HeavyAtomCount, SlogP_VSA6, PEOE_VSA7, SlogP_VSA5, Chi0, Kappa1, VSA_EState5, PEOE_VSA14, Chi0n, Chi1, Chi0v, VSA_EState1, PEOE_VSA9, PEOE_VSA3, NumHAcceptors, NOCount, NumHeteroatoms, SMR_VSA10, EState_VSA9, PEOE_VSA12, Chi1n, Kappa2, Chi1v, PEOE_VSA6, fr_phenol_noOrthoHbond, fr_phenol, fr_Ar_OH, NumHDonors, NHOHCount\n",
      "\n"
     ]
    }
   ],
   "source": [
    "# Get the absolute values of the feature contributions\n",
    "abs_feature_contributions = np.abs(pca.components_)\n",
    "\n",
    "# Get the indices of the original features that contribute the most to each principal component\n",
    "top_feature_indices = np.argsort(abs_feature_contributions, axis=1)[:, ::-1][:, :50]\n",
    "\n",
    "# Get the names of the original features\n",
    "feature_names = X.columns\n",
    "\n",
    "# Print the top features for each principal component\n",
    "for i in range(1):\n",
    "    print(f\"Top features for principal component {i+1}:\")\n",
    "    feature_indices = top_feature_indices[i]\n",
    "    feature_names_selected = feature_names[feature_indices]\n",
    "    print(', '.join(feature_names_selected))\n",
    "    print()"
   ]
  },
  {
   "cell_type": "code",
   "execution_count": 66,
   "metadata": {},
   "outputs": [],
   "source": [
    "# Generate the chosen features from PCA in a new function\n",
    "def generate_rdkit_features(smiles, assay_id):\n",
    "    # Convert SMILES string to RDKit molecule object\n",
    "    mol = Chem.MolFromSmiles(smiles)\n",
    "    if mol is None:\n",
    "        # Return NaN if SMILES string is invalid\n",
    "        return [np.nan]*50 + [assay_id]\n",
    "    \n",
    "    Ipc = Descriptors.Ipc(mol)\n",
    "    BertzCT = Descriptors.BertzCT(mol)\n",
    "    MolWt = Descriptors.MolWt(mol)\n",
    "    ExactMolWt = Descriptors.ExactMolWt(mol)\n",
    "    HeavyAtomMolWt = Descriptors.HeavyAtomMolWt(mol)\n",
    "    TPSA = Descriptors.TPSA(mol)\n",
    "    LabuteASA = Descriptors.LabuteASA(mol)\n",
    "    NumValenceElectrons = Descriptors.NumValenceElectrons(mol)\n",
    "    EState_VSA1 = Descriptors.EState_VSA1(mol)\n",
    "    MolMR = Descriptors.MolMR(mol)\n",
    "    VSA_EState3 = Descriptors.VSA_EState3(mol)\n",
    "    SMR_VSA1 = Descriptors.SMR_VSA1(mol)\n",
    "    SlogP_VSA2 = Descriptors.SlogP_VSA2(mol)\n",
    "    PEOE_VSA1 = Descriptors.PEOE_VSA1(mol)\n",
    "    SlogP_VSA11 = Descriptors.SlogP_VSA11(mol)\n",
    "    SMR_VSA9 = Descriptors.SMR_VSA9(mol)\n",
    "    PEOE_VSA11 = Descriptors.PEOE_VSA11(mol)\n",
    "    EState_VSA10 = Descriptors.EState_VSA10(mol)\n",
    "    SMR_VSA7 = Descriptors.SMR_VSA7(mol)\n",
    "    VSA_EState2 = Descriptors.VSA_EState2(mol)\n",
    "    EState_VSA3 = Descriptors.EState_VSA3(mol)\n",
    "    HeavyAtomCount = Descriptors.HeavyAtomCount(mol)\n",
    "    SlogP_VSA6 = Descriptors.SlogP_VSA6(mol)\n",
    "    PEOE_VSA7 = Descriptors.PEOE_VSA7(mol)\n",
    "    SlogP_VSA5 = Descriptors.SlogP_VSA5(mol)\n",
    "    Chi0 = Descriptors.Chi0(mol)\n",
    "    Kappa1 = Descriptors.Kappa1(mol)\n",
    "    VSA_EState5 = Descriptors.VSA_EState5(mol)\n",
    "    PEOE_VSA14 = Descriptors.PEOE_VSA14(mol)\n",
    "    Chi0n = Descriptors.Chi0n(mol)\n",
    "    Chi1 = Descriptors.Chi1(mol)\n",
    "    Chi0v = Descriptors.Chi0v(mol)\n",
    "    VSA_EState1 = Descriptors.VSA_EState1(mol)\n",
    "    PEOE_VSA9 = Descriptors.PEOE_VSA9(mol)\n",
    "    PEOE_VSA3 = Descriptors.PEOE_VSA3(mol)\n",
    "    NumHAcceptors = Descriptors.NumHAcceptors(mol)\n",
    "    NOCount = Descriptors.NOCount(mol)\n",
    "    NumHeteroatoms = Descriptors.NumHeteroatoms(mol)\n",
    "    SMR_VSA10 = Descriptors.SMR_VSA10(mol)\n",
    "    EState_VSA9 = Descriptors.EState_VSA9(mol)\n",
    "    PEOE_VSA12 = Descriptors.PEOE_VSA12(mol)\n",
    "    Chi1n = Descriptors.Chi1n(mol)\n",
    "    Kappa2 = Descriptors.Kappa2(mol)\n",
    "    Chi1v = Descriptors.Chi1v(mol)\n",
    "    PEOE_VSA6 = Descriptors.PEOE_VSA6(mol)\n",
    "    fr_phenol_noOrthoHbond = Descriptors.fr_phenol_noOrthoHbond(mol)\n",
    "    fr_phenol = Descriptors.fr_phenol(mol)\n",
    "    fr_Ar_OH = Descriptors.fr_Ar_OH(mol)\n",
    "    NumHDonors = Descriptors.NumHDonors(mol)\n",
    "    NHOHCount = Descriptors.NHOHCount(mol)\n",
    "\n",
    "\n",
    "\n",
    "\n",
    "    # Return a list of features, including the assay ID\n",
    "    return [Ipc, BertzCT, MolWt, ExactMolWt, HeavyAtomMolWt, TPSA, LabuteASA, NumValenceElectrons, EState_VSA1, MolMR, VSA_EState3, \n",
    "            SMR_VSA1, SlogP_VSA2, PEOE_VSA1, SlogP_VSA11, SMR_VSA9, PEOE_VSA11, EState_VSA10, SMR_VSA7, VSA_EState2, EState_VSA3, \n",
    "            HeavyAtomCount, SlogP_VSA6, PEOE_VSA7, SlogP_VSA5, Chi0, Kappa1, VSA_EState5, PEOE_VSA14, Chi0n, Chi1, Chi0v, VSA_EState1, \n",
    "            PEOE_VSA9, PEOE_VSA3, NumHAcceptors, NOCount, NumHeteroatoms, SMR_VSA10, EState_VSA9, PEOE_VSA12, Chi1n, Kappa2, Chi1v, \n",
    "            PEOE_VSA6, fr_phenol_noOrthoHbond, fr_phenol, fr_Ar_OH, NumHDonors, NHOHCount, assay_id]\n",
    "\n"
   ]
  },
  {
   "cell_type": "code",
   "execution_count": 67,
   "metadata": {},
   "outputs": [],
   "source": [
    "# Load the train data into a pandas DataFrame\n",
    "train_data = pd.read_csv('train_II.csv', delimiter=';', names=['SMILES','Identifier'], skiprows=1)\n",
    "train_data[['Identifier', 'Expected']] = train_data['Identifier'].str.split(',', expand=True)"
   ]
  },
  {
   "cell_type": "code",
   "execution_count": 68,
   "metadata": {},
   "outputs": [
    {
     "name": "stderr",
     "output_type": "stream",
     "text": [
      "[12:39:42] Explicit valence for atom # 1 Si, 8, is greater than permitted\n",
      "[12:40:25] Explicit valence for atom # 1 Si, 8, is greater than permitted\n",
      "[12:41:08] Explicit valence for atom # 1 Si, 8, is greater than permitted\n",
      "[12:41:21] Explicit valence for atom # 1 Si, 8, is greater than permitted\n",
      "[12:42:03] Explicit valence for atom # 1 Si, 8, is greater than permitted\n",
      "[12:42:27] Explicit valence for atom # 1 Si, 8, is greater than permitted\n"
     ]
    }
   ],
   "source": [
    "# Extract RDKit features and add them as columns to the dataframe\n",
    "train_data['RDKit_features'] = train_data.apply(lambda x: generate_rdkit_features(x['SMILES'], x['Identifier']), axis=1)\n",
    "\n",
    "train_data[['Ipc', 'BertzCT', 'MolWt', 'ExactMolWt', 'HeavyAtomMolWt', 'TPSA', 'LabuteASA', 'NumValenceElectrons', 'EState_VSA1', \n",
    "'MolMR', 'VSA_EState3', 'SMR_VSA1', 'SlogP_VSA2', 'PEOE_VSA1', 'SlogP_VSA11', 'SMR_VSA9', 'PEOE_VSA11', 'EState_VSA10', 'SMR_VSA7', \n",
    "'VSA_EState2', 'EState_VSA3', 'HeavyAtomCount', 'SlogP_VSA6', 'PEOE_VSA7', 'SlogP_VSA5', 'Chi0', 'Kappa1', 'VSA_EState5', 'PEOE_VSA14', \n",
    "'Chi0n', 'Chi1', 'Chi0v', 'VSA_EState1', 'PEOE_VSA9', 'PEOE_VSA3', 'NumHAcceptors', 'NOCount', 'NumHeteroatoms', 'SMR_VSA10', 'EState_VSA9', \n",
    "'PEOE_VSA12', 'Chi1n', 'Kappa2', 'Chi1v', 'PEOE_VSA6', 'fr_phenol_noOrthoHbond', 'fr_phenol', 'fr_Ar_OH', 'NumHDonors', 'NHOHCount', \n",
    "'assay_id']] = train_data['RDKit_features'].apply(pd.Series)\n"
   ]
  },
  {
   "cell_type": "code",
   "execution_count": 69,
   "metadata": {},
   "outputs": [],
   "source": [
    "# Drop the original RDKit_features column\n",
    "train_data.drop('RDKit_features', axis=1, inplace=True)"
   ]
  },
  {
   "cell_type": "code",
   "execution_count": 70,
   "metadata": {},
   "outputs": [
    {
     "name": "stdout",
     "output_type": "stream",
     "text": [
      "SMILES                    0\n",
      "Identifier                0\n",
      "Expected                  0\n",
      "Ipc                       6\n",
      "BertzCT                   6\n",
      "MolWt                     6\n",
      "ExactMolWt                6\n",
      "HeavyAtomMolWt            6\n",
      "TPSA                      6\n",
      "LabuteASA                 6\n",
      "NumValenceElectrons       6\n",
      "EState_VSA1               6\n",
      "MolMR                     6\n",
      "VSA_EState3               6\n",
      "SMR_VSA1                  6\n",
      "SlogP_VSA2                6\n",
      "PEOE_VSA1                 6\n",
      "SlogP_VSA11               6\n",
      "SMR_VSA9                  6\n",
      "PEOE_VSA11                6\n",
      "EState_VSA10              6\n",
      "SMR_VSA7                  6\n",
      "VSA_EState2               6\n",
      "EState_VSA3               6\n",
      "HeavyAtomCount            6\n",
      "SlogP_VSA6                6\n",
      "PEOE_VSA7                 6\n",
      "SlogP_VSA5                6\n",
      "Chi0                      6\n",
      "Kappa1                    6\n",
      "VSA_EState5               6\n",
      "PEOE_VSA14                6\n",
      "Chi0n                     6\n",
      "Chi1                      6\n",
      "Chi0v                     6\n",
      "VSA_EState1               6\n",
      "PEOE_VSA9                 6\n",
      "PEOE_VSA3                 6\n",
      "NumHAcceptors             6\n",
      "NOCount                   6\n",
      "NumHeteroatoms            6\n",
      "SMR_VSA10                 6\n",
      "EState_VSA9               6\n",
      "PEOE_VSA12                6\n",
      "Chi1n                     6\n",
      "Kappa2                    6\n",
      "Chi1v                     6\n",
      "PEOE_VSA6                 6\n",
      "fr_phenol_noOrthoHbond    6\n",
      "fr_phenol                 6\n",
      "fr_Ar_OH                  6\n",
      "NumHDonors                6\n",
      "NHOHCount                 6\n",
      "assay_id                  0\n",
      "dtype: int64\n"
     ]
    }
   ],
   "source": [
    "null_counts = train_data.isnull().sum()\n",
    "print(null_counts)"
   ]
  },
  {
   "cell_type": "code",
   "execution_count": 71,
   "metadata": {},
   "outputs": [],
   "source": [
    "train_data = train_data.dropna()"
   ]
  },
  {
   "cell_type": "code",
   "execution_count": 72,
   "metadata": {},
   "outputs": [
    {
     "name": "stdout",
     "output_type": "stream",
     "text": [
      "SMILES                    0\n",
      "Identifier                0\n",
      "Expected                  0\n",
      "Ipc                       0\n",
      "BertzCT                   0\n",
      "MolWt                     0\n",
      "ExactMolWt                0\n",
      "HeavyAtomMolWt            0\n",
      "TPSA                      0\n",
      "LabuteASA                 0\n",
      "NumValenceElectrons       0\n",
      "EState_VSA1               0\n",
      "MolMR                     0\n",
      "VSA_EState3               0\n",
      "SMR_VSA1                  0\n",
      "SlogP_VSA2                0\n",
      "PEOE_VSA1                 0\n",
      "SlogP_VSA11               0\n",
      "SMR_VSA9                  0\n",
      "PEOE_VSA11                0\n",
      "EState_VSA10              0\n",
      "SMR_VSA7                  0\n",
      "VSA_EState2               0\n",
      "EState_VSA3               0\n",
      "HeavyAtomCount            0\n",
      "SlogP_VSA6                0\n",
      "PEOE_VSA7                 0\n",
      "SlogP_VSA5                0\n",
      "Chi0                      0\n",
      "Kappa1                    0\n",
      "VSA_EState5               0\n",
      "PEOE_VSA14                0\n",
      "Chi0n                     0\n",
      "Chi1                      0\n",
      "Chi0v                     0\n",
      "VSA_EState1               0\n",
      "PEOE_VSA9                 0\n",
      "PEOE_VSA3                 0\n",
      "NumHAcceptors             0\n",
      "NOCount                   0\n",
      "NumHeteroatoms            0\n",
      "SMR_VSA10                 0\n",
      "EState_VSA9               0\n",
      "PEOE_VSA12                0\n",
      "Chi1n                     0\n",
      "Kappa2                    0\n",
      "Chi1v                     0\n",
      "PEOE_VSA6                 0\n",
      "fr_phenol_noOrthoHbond    0\n",
      "fr_phenol                 0\n",
      "fr_Ar_OH                  0\n",
      "NumHDonors                0\n",
      "NHOHCount                 0\n",
      "assay_id                  0\n",
      "dtype: int64\n"
     ]
    }
   ],
   "source": [
    "null_counts = train_data.isnull().sum()\n",
    "print(null_counts)"
   ]
  },
  {
   "cell_type": "code",
   "execution_count": 73,
   "metadata": {},
   "outputs": [],
   "source": [
    "# Split the data into training and validation sets\n",
    "X = train_data[['Ipc', 'BertzCT', 'MolWt', 'ExactMolWt', 'HeavyAtomMolWt', 'TPSA', 'LabuteASA', 'NumValenceElectrons', 'EState_VSA1', \n",
    "'MolMR', 'VSA_EState3', 'SMR_VSA1', 'SlogP_VSA2', 'PEOE_VSA1', 'SlogP_VSA11', 'SMR_VSA9', 'PEOE_VSA11', 'EState_VSA10', 'SMR_VSA7', \n",
    "'VSA_EState2', 'EState_VSA3', 'HeavyAtomCount', 'SlogP_VSA6', 'PEOE_VSA7', 'SlogP_VSA5', 'Chi0', 'Kappa1', 'VSA_EState5', 'PEOE_VSA14', \n",
    "'Chi0n', 'Chi1', 'Chi0v', 'VSA_EState1', 'PEOE_VSA9', 'PEOE_VSA3', 'NumHAcceptors', 'NOCount', 'NumHeteroatoms', 'SMR_VSA10', 'EState_VSA9', \n",
    "'PEOE_VSA12', 'Chi1n', 'Kappa2', 'Chi1v', 'PEOE_VSA6', 'fr_phenol_noOrthoHbond', 'fr_phenol', 'fr_Ar_OH', 'NumHDonors', 'NHOHCount', \n",
    "'assay_id']]\n",
    "y = train_data['Expected']\n",
    "X_train, X_val, y_train, y_val = train_test_split(X, y, test_size=0.2, random_state=42)"
   ]
  },
  {
   "cell_type": "code",
   "execution_count": 74,
   "metadata": {},
   "outputs": [],
   "source": [
    "from sklearn.ensemble import GradientBoostingClassifier\n",
    "from sklearn.ensemble import AdaBoostClassifier\n",
    "\n",
    "# Instantiate a decision tree classifier to use as the base estimator for the AdaBoost classifier\n",
    "gbc = GradientBoostingClassifier(max_depth=5, random_state=42)\n",
    "\n",
    "# Instantiate the AdaBoost classifier\n",
    "abc = AdaBoostClassifier(base_estimator=gbc, n_estimators=500, learning_rate=0.1,\n",
    "                         algorithm='SAMME.R', random_state=42)"
   ]
  },
  {
   "cell_type": "code",
   "execution_count": 75,
   "metadata": {},
   "outputs": [
    {
     "data": {
      "text/plain": [
       "AdaBoostClassifier(base_estimator=GradientBoostingClassifier(max_depth=5,\n",
       "                                                             random_state=42),\n",
       "                   learning_rate=0.1, n_estimators=500, random_state=42)"
      ]
     },
     "execution_count": 75,
     "metadata": {},
     "output_type": "execute_result"
    }
   ],
   "source": [
    "# Train the model on the training data\n",
    "abc.fit(X_train, y_train) "
   ]
  },
  {
   "cell_type": "code",
   "execution_count": 76,
   "metadata": {},
   "outputs": [],
   "source": [
    "# Make predictions on the validation set using the best estimator\n",
    "y_pred = abc.predict(X_val)"
   ]
  },
  {
   "cell_type": "code",
   "execution_count": 77,
   "metadata": {},
   "outputs": [
    {
     "name": "stdout",
     "output_type": "stream",
     "text": [
      "F1 score:  0.9053209449150077\n"
     ]
    }
   ],
   "source": [
    "# Evaluate the model using F1 score\n",
    "f1 = f1_score(y_val, y_pred, average='weighted')\n",
    "print(\"F1 score: \", f1)"
   ]
  },
  {
   "cell_type": "code",
   "execution_count": 78,
   "metadata": {},
   "outputs": [],
   "source": [
    "y_pred2 = abc.predict(X_val)\n"
   ]
  },
  {
   "cell_type": "code",
   "execution_count": 79,
   "metadata": {},
   "outputs": [
    {
     "name": "stdout",
     "output_type": "stream",
     "text": [
      "F1 score:  0.9053209449150077\n"
     ]
    }
   ],
   "source": [
    "# Evaluate the model using F1 score\n",
    "f1_sc = f1_score(y_val, y_pred2, average='weighted')\n",
    "print(\"F1 score: \", f1)"
   ]
  },
  {
   "cell_type": "code",
   "execution_count": 82,
   "metadata": {},
   "outputs": [],
   "source": [
    "# Load the test data into a pandas DataFrame\n",
    "test_data = pd.read_csv('test_II.csv', delimiter=';', header=None, names=['SMILES', 'Identifier'], skiprows=1)"
   ]
  },
  {
   "cell_type": "code",
   "execution_count": 83,
   "metadata": {},
   "outputs": [],
   "source": [
    "test_data['RDKit_features'] = test_data.apply(lambda x: generate_rdkit_features(x['SMILES'], x['Identifier']), axis=1)\n",
    "\n",
    "test_data[['Ipc', 'BertzCT', 'MolWt', 'ExactMolWt', 'HeavyAtomMolWt', 'TPSA', 'LabuteASA', 'NumValenceElectrons', 'EState_VSA1', \n",
    "'MolMR', 'VSA_EState3', 'SMR_VSA1', 'SlogP_VSA2', 'PEOE_VSA1', 'SlogP_VSA11', 'SMR_VSA9', 'PEOE_VSA11', 'EState_VSA10', 'SMR_VSA7', \n",
    "'VSA_EState2', 'EState_VSA3', 'HeavyAtomCount', 'SlogP_VSA6', 'PEOE_VSA7', 'SlogP_VSA5', 'Chi0', 'Kappa1', 'VSA_EState5', 'PEOE_VSA14', \n",
    "'Chi0n', 'Chi1', 'Chi0v', 'VSA_EState1', 'PEOE_VSA9', 'PEOE_VSA3', 'NumHAcceptors', 'NOCount', 'NumHeteroatoms', 'SMR_VSA10', 'EState_VSA9', \n",
    "'PEOE_VSA12', 'Chi1n', 'Kappa2', 'Chi1v', 'PEOE_VSA6', 'fr_phenol_noOrthoHbond', 'fr_phenol', 'fr_Ar_OH', 'NumHDonors', 'NHOHCount', \n",
    "'assay_id']] = test_data['RDKit_features'].apply(pd.Series)"
   ]
  },
  {
   "cell_type": "code",
   "execution_count": 84,
   "metadata": {},
   "outputs": [],
   "source": [
    "test_data = test_data.drop('RDKit_features', axis=1)"
   ]
  },
  {
   "cell_type": "code",
   "execution_count": 85,
   "metadata": {},
   "outputs": [],
   "source": [
    "# Use the best estimator to make predictions on the test set\n",
    "y_test_pred = abc.predict(test_data[['Ipc', 'BertzCT', 'MolWt', 'ExactMolWt', 'HeavyAtomMolWt', 'TPSA', 'LabuteASA', 'NumValenceElectrons', 'EState_VSA1', \n",
    "'MolMR', 'VSA_EState3', 'SMR_VSA1', 'SlogP_VSA2', 'PEOE_VSA1', 'SlogP_VSA11', 'SMR_VSA9', 'PEOE_VSA11', 'EState_VSA10', 'SMR_VSA7', \n",
    "'VSA_EState2', 'EState_VSA3', 'HeavyAtomCount', 'SlogP_VSA6', 'PEOE_VSA7', 'SlogP_VSA5', 'Chi0', 'Kappa1', 'VSA_EState5', 'PEOE_VSA14', \n",
    "'Chi0n', 'Chi1', 'Chi0v', 'VSA_EState1', 'PEOE_VSA9', 'PEOE_VSA3', 'NumHAcceptors', 'NOCount', 'NumHeteroatoms', 'SMR_VSA10', 'EState_VSA9', \n",
    "'PEOE_VSA12', 'Chi1n', 'Kappa2', 'Chi1v', 'PEOE_VSA6', 'fr_phenol_noOrthoHbond', 'fr_phenol', 'fr_Ar_OH', 'NumHDonors', 'NHOHCount', \n",
    "'assay_id']])\n"
   ]
  },
  {
   "cell_type": "code",
   "execution_count": 41,
   "metadata": {},
   "outputs": [],
   "source": [
    "# Create a DataFrame to store the predictions and the corresponding assay IDs\n",
    "submission_df = pd.DataFrame({'Assay_ID': test_data['Identifier'], 'Prediction': y_test_pred})\n"
   ]
  },
  {
   "cell_type": "code",
   "execution_count": 86,
   "metadata": {},
   "outputs": [],
   "source": [
    "# Convert predictions to a pandas DataFrame and add to the test data\n",
    "test_data['Predicted'] = pd.Series(y_test_pred)\n",
    "\n"
   ]
  },
  {
   "cell_type": "code",
   "execution_count": 87,
   "metadata": {},
   "outputs": [],
   "source": [
    "test_data['Id'] = test_data['SMILES'] + ';' + test_data['Identifier'].astype(int).astype(str)\n",
    "\n"
   ]
  },
  {
   "cell_type": "code",
   "execution_count": 88,
   "metadata": {},
   "outputs": [
    {
     "data": {
      "text/html": [
       "<div>\n",
       "<style scoped>\n",
       "    .dataframe tbody tr th:only-of-type {\n",
       "        vertical-align: middle;\n",
       "    }\n",
       "\n",
       "    .dataframe tbody tr th {\n",
       "        vertical-align: top;\n",
       "    }\n",
       "\n",
       "    .dataframe thead th {\n",
       "        text-align: right;\n",
       "    }\n",
       "</style>\n",
       "<table border=\"1\" class=\"dataframe\">\n",
       "  <thead>\n",
       "    <tr style=\"text-align: right;\">\n",
       "      <th></th>\n",
       "      <th>Id</th>\n",
       "      <th>Predicted</th>\n",
       "    </tr>\n",
       "  </thead>\n",
       "  <tbody>\n",
       "    <tr>\n",
       "      <th>0</th>\n",
       "      <td>CC1=CC(=C(C=C1)C(C)(C)C)O;1682</td>\n",
       "      <td>2</td>\n",
       "    </tr>\n",
       "    <tr>\n",
       "      <th>1</th>\n",
       "      <td>CCS(=O)(=O)C1=C(N=CC=C1)S(=O)(=O)NC(=O)NC2=NC(...</td>\n",
       "      <td>2</td>\n",
       "    </tr>\n",
       "    <tr>\n",
       "      <th>2</th>\n",
       "      <td>CC1=NC2=CC=CC=C2N1C3CC4CCC(C3)N4CCC5(CCN(CC5)C...</td>\n",
       "      <td>2</td>\n",
       "    </tr>\n",
       "    <tr>\n",
       "      <th>3</th>\n",
       "      <td>CC1=CC(=O)[N-]S(=O)(=O)O1.[K+];1850</td>\n",
       "      <td>2</td>\n",
       "    </tr>\n",
       "    <tr>\n",
       "      <th>4</th>\n",
       "      <td>CCC(C)(C)C(=O)O[C@H]1C[C@H](C=C2[C@H]1[C@H]([C...</td>\n",
       "      <td>2</td>\n",
       "    </tr>\n",
       "    <tr>\n",
       "      <th>...</th>\n",
       "      <td>...</td>\n",
       "      <td>...</td>\n",
       "    </tr>\n",
       "    <tr>\n",
       "      <th>10989</th>\n",
       "      <td>CC(=NOCC1=CC=CC=C1C(=NOC)C(=O)OC)C2=CC(=CC=C2)...</td>\n",
       "      <td>2</td>\n",
       "    </tr>\n",
       "    <tr>\n",
       "      <th>10990</th>\n",
       "      <td>C1=CC=C(C(=C1)C(C2=CC=C(C=C2)O)C3=CC=C(C=C3)O)...</td>\n",
       "      <td>2</td>\n",
       "    </tr>\n",
       "    <tr>\n",
       "      <th>10991</th>\n",
       "      <td>CC1=NC(=NC(=N1)OC)NC(=O)NS(=O)(=O)C2=CC=CC=C2C...</td>\n",
       "      <td>2</td>\n",
       "    </tr>\n",
       "    <tr>\n",
       "      <th>10992</th>\n",
       "      <td>COP(=O)(OC)OC=C(Cl)Cl;28</td>\n",
       "      <td>2</td>\n",
       "    </tr>\n",
       "    <tr>\n",
       "      <th>10993</th>\n",
       "      <td>C1=CC=C2C(=C1)C(=O)NS2;1855</td>\n",
       "      <td>2</td>\n",
       "    </tr>\n",
       "  </tbody>\n",
       "</table>\n",
       "<p>10994 rows × 2 columns</p>\n",
       "</div>"
      ],
      "text/plain": [
       "                                                      Id Predicted\n",
       "0                         CC1=CC(=C(C=C1)C(C)(C)C)O;1682         2\n",
       "1      CCS(=O)(=O)C1=C(N=CC=C1)S(=O)(=O)NC(=O)NC2=NC(...         2\n",
       "2      CC1=NC2=CC=CC=C2N1C3CC4CCC(C3)N4CCC5(CCN(CC5)C...         2\n",
       "3                    CC1=CC(=O)[N-]S(=O)(=O)O1.[K+];1850         2\n",
       "4      CCC(C)(C)C(=O)O[C@H]1C[C@H](C=C2[C@H]1[C@H]([C...         2\n",
       "...                                                  ...       ...\n",
       "10989  CC(=NOCC1=CC=CC=C1C(=NOC)C(=O)OC)C2=CC(=CC=C2)...         2\n",
       "10990  C1=CC=C(C(=C1)C(C2=CC=C(C=C2)O)C3=CC=C(C=C3)O)...         2\n",
       "10991  CC1=NC(=NC(=N1)OC)NC(=O)NS(=O)(=O)C2=CC=CC=C2C...         2\n",
       "10992                           COP(=O)(OC)OC=C(Cl)Cl;28         2\n",
       "10993                        C1=CC=C2C(=C1)C(=O)NS2;1855         2\n",
       "\n",
       "[10994 rows x 2 columns]"
      ]
     },
     "execution_count": 88,
     "metadata": {},
     "output_type": "execute_result"
    }
   ],
   "source": [
    "# Reorder columns with Id first and Predicted last\n",
    "test_data = test_data[['Id', 'Predicted']]\n",
    "\n"
   ]
  },
  {
   "cell_type": "code",
   "execution_count": 45,
   "metadata": {},
   "outputs": [],
   "source": [
    "# Save the test data with predictions to a CSV file\n",
    "test_data.to_csv('submission.csv', index=False)"
   ]
  }
 ],
 "metadata": {
  "kernelspec": {
   "display_name": "Python 3",
   "language": "python",
   "name": "python3"
  },
  "language_info": {
   "codemirror_mode": {
    "name": "ipython",
    "version": 3
   },
   "file_extension": ".py",
   "mimetype": "text/x-python",
   "name": "python",
   "nbconvert_exporter": "python",
   "pygments_lexer": "ipython3",
   "version": "3.9.6"
  },
  "orig_nbformat": 4,
  "vscode": {
   "interpreter": {
    "hash": "81794d4967e6c3204c66dcd87b604927b115b27c00565d3d43f05ba2f3a2cb0d"
   }
  }
 },
 "nbformat": 4,
 "nbformat_minor": 2
}
